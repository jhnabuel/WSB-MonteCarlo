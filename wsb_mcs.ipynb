{
  "cells": [
    {
      "cell_type": "markdown",
      "metadata": {
        "id": "BNOUS-rI7YpA"
      },
      "source": [
        "# Monte Carlo Simulation for Popular r/wsb Stocks\n",
        "## First part: Importing libraries"
      ]
    },
    {
      "cell_type": "code",
      "execution_count": 1,
      "metadata": {
        "id": "JjGv9TY37XcK"
      },
      "outputs": [],
      "source": [
        "import praw\n",
        "from collections import Counter\n",
        "import re\n",
        "import pandas as pd\n",
        "import csv\n",
        "import os\n",
        "from datetime import datetime\n",
        "from dotenv import load_dotenv\n"
      ]
    },
    {
      "cell_type": "markdown",
      "metadata": {
        "id": "Ow5T-0AUs-Aj"
      },
      "source": [
        "# Get Reddit API credentials"
      ]
    },
    {
      "cell_type": "code",
      "execution_count": null,
      "metadata": {
        "id": "Szrb3Jsp8Dbg"
      },
      "outputs": [],
      "source": [
        "# Reddit app credentials\n",
        "load_dotenv()  \n",
        "client_id = os.getenv(\"id\")\n",
        "client_secret = os.getenv(\"secret\")\n",
        "user_agent = os.getenv(\"user_agent\")\n",
        "reddit = praw.Reddit(\n",
        "    client_id = client_id,\n",
        "    client_secret = client_secret,\n",
        "    user_agent = user_agent,\n",
        "    username=\"Hashi118\",\n",
        ")\n"
      ]
    },
    {
      "cell_type": "markdown",
      "metadata": {
        "id": "iuliwD5L8DTw"
      },
      "source": [
        "# Get top year 1000 posts from r/WallStreetBets"
      ]
    },
    {
      "cell_type": "code",
      "execution_count": null,
      "metadata": {
        "colab": {
          "base_uri": "https://localhost:8080/"
        },
        "id": "SK7RFeQAtMgu",
        "outputId": "52c12c36-d16f-43a5-de27-8938f7558bf9"
      },
      "outputs": [],
      "source": [
        "# Fetch top 100 posts from r/wallstreetbets\n",
        "subreddit = reddit.subreddit('wallstreetbets')\n",
        "top_posts = subreddit.top(time_filter=\"year\", limit=1000)\n",
        "\n",
        "# Simple regex to identify stock tickers\n",
        "ticker_pattern = re.compile(r'\\b[A-Z]{2,5}\\b')\n",
        "blacklist = {\"YOLO\", \"THE\", \"AND\", \"ALL\", \"BUY\", \"SELL\", \"HOLD\", \"FOR\", \"IT\", \"US\", \"TLDR\", \"DD\", \"USD\", \"EU\", \"AI\", \"CEO\", \"WSB\", \"UAE\"}\n",
        "\n",
        "tickers = []\n",
        "# Collect tickers\n",
        "for post in top_posts:\n",
        "  combined_text = post.title\n",
        "  matches = ticker_pattern.findall(combined_text)\n",
        "  filtered = [m for m in matches if m not in blacklist]\n",
        "  tickers.extend(filtered)\n",
        "\n",
        "      # Count most discussed tickers\n",
        "ticker_counts = Counter(tickers)\n",
        "\n",
        "print(\"Top discussed tickers (year):\")\n",
        "for ticker, count in ticker_counts.most_common(15):\n",
        "    print(f\"{ticker}: {count}\")\n"
      ]
    },
    {
      "cell_type": "code",
      "execution_count": null,
      "metadata": {},
      "outputs": [],
      "source": [
        "# Fetch top 100 posts from r/wallstreetbets\n",
        "subreddit = reddit.subreddit('wallstreetbets')\n",
        "top_posts = subreddit.top(time_filter=\"year\", limit=1000)\n",
        "for post in top_posts:\n",
        "    print(f\"{post.title}\"  + f\" {post.link_flair_text}\")\n"
      ]
    },
    {
      "cell_type": "markdown",
      "metadata": {},
      "source": [
        "# Getting Posts from WallSteetBets\n"
      ]
    },
    {
      "cell_type": "code",
      "execution_count": null,
      "metadata": {},
      "outputs": [],
      "source": [
        "# Fetch NVDA posts from r/wallstreetbets\n",
        "subreddit = reddit.subreddit('wallstreetbets')\n",
        "stock_posts = subreddit.search(\"NVDA OR Nvidia\", sort=\"top\", time_filter=\"month\", limit=100)\n",
        "\n",
        "posts =[]\n",
        "# Collect tickers\n",
        "for post in stock_posts:\n",
        "  title = post.title\n",
        "  body = post.selftext\n",
        "  url = post.url\n",
        "\n",
        " # Convert UTC timestamp to readable date\n",
        "  post_date = datetime.fromtimestamp(post.created_utc).strftime('%Y-%m-%d %H:%M:%S')\n",
        "\n",
        "     # Check for NVDA/Nvidia in title or selftext (case-insensitive)\n",
        "  if \"NVDA\" in title.upper() or \"NVIDIA\" in title.upper() or \"NVDA\" in body.upper() or \"NVIDIA\" in body.upper():\n",
        "      posts.append([title, body, post.score, post_date, url])\n",
        "\n",
        "\n",
        "folder_path = \"/Users/johnabuel/Desktop/stock data\"\n",
        "file_path = os.path.join(folder_path, \"nvda_top_posts.csv\")\n",
        "\n",
        "# Write to CSV\n",
        "with open(file_path, \"w\", newline='', encoding=\"utf-8\") as f:\n",
        "    writer = csv.writer(f)\n",
        "    writer.writerow([\"Title\", \"Body\", \"Score\", \"Date\", \"URL\"])\n",
        "    writer.writerows(posts) \n",
        "\n",
        "  "
      ]
    },
    {
      "cell_type": "code",
      "execution_count": null,
      "metadata": {},
      "outputs": [],
      "source": []
    }
  ],
  "metadata": {
    "colab": {
      "provenance": []
    },
    "kernelspec": {
      "display_name": ".venv",
      "language": "python",
      "name": "python3"
    },
    "language_info": {
      "codemirror_mode": {
        "name": "ipython",
        "version": 3
      },
      "file_extension": ".py",
      "mimetype": "text/x-python",
      "name": "python",
      "nbconvert_exporter": "python",
      "pygments_lexer": "ipython3",
      "version": "3.12.7"
    }
  },
  "nbformat": 4,
  "nbformat_minor": 0
}
